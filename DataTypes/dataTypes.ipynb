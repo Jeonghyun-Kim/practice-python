{
 "cells": [
  {
   "cell_type": "code",
   "execution_count": null,
   "metadata": {},
   "outputs": [],
   "source": [
    "# String"
   ]
  },
  {
   "cell_type": "code",
   "execution_count": 11,
   "metadata": {},
   "outputs": [
    {
     "output_type": "stream",
     "name": "stdout",
     "text": "My name is\nKay Kim\nCan I use   multiple lines?\nYou can use   also double quotes\nI can contain\nenters in multiple\nlines\n"
    }
   ],
   "source": [
    "my = \"My name is\"\n",
    "\n",
    "name = 'Kay Kim'\n",
    "\n",
    "hello = 'Can I use \\\n",
    "  multiple lines?'\n",
    "\n",
    "sure = \"You can use \\\n",
    "  also double quotes\"\n",
    "\n",
    "howAboutMe = \"\"\"I can contain\n",
    "enters in multiple\n",
    "lines\"\"\"\n",
    "\n",
    "print(my)\n",
    "print(name)\n",
    "print(hello)\n",
    "print(sure)\n",
    "print(howAboutMe)"
   ]
  },
  {
   "cell_type": "code",
   "execution_count": 12,
   "metadata": {},
   "outputs": [],
   "source": [
    "# Boolean"
   ]
  },
  {
   "cell_type": "code",
   "execution_count": 3,
   "metadata": {},
   "outputs": [],
   "source": [
    "x, y = True, False"
   ]
  },
  {
   "cell_type": "code",
   "execution_count": 7,
   "metadata": {},
   "outputs": [
    {
     "output_type": "stream",
     "name": "stdout",
     "text": "True\nFalse\nTrue\nFalse\nTrue\n"
    }
   ],
   "source": [
    "print(x)\n",
    "print(not x)\n",
    "print(x == True)\n",
    "print(x != True)\n",
    "print(not x == y)"
   ]
  },
  {
   "cell_type": "code",
   "execution_count": 6,
   "metadata": {},
   "outputs": [],
   "source": [
    "# Integer"
   ]
  },
  {
   "cell_type": "code",
   "execution_count": null,
   "metadata": {},
   "outputs": [],
   "source": []
  }
 ],
 "metadata": {
  "language_info": {
   "codemirror_mode": {
    "name": "ipython",
    "version": 3
   },
   "file_extension": ".py",
   "mimetype": "text/x-python",
   "name": "python",
   "nbconvert_exporter": "python",
   "pygments_lexer": "ipython3",
   "version": "3.8.3-final"
  },
  "orig_nbformat": 2,
  "kernelspec": {
   "name": "python38364bit2ba0dee19e9141668352b8f7dee7309d",
   "display_name": "Python 3.8.3 64-bit"
  }
 },
 "nbformat": 4,
 "nbformat_minor": 2
}